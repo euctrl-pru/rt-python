{
 "cells": [
  {
   "cell_type": "markdown",
   "metadata": {},
   "source": [
    "# Find Trajectory Intersections\n",
    "\n",
    "This notebook contains functions to find intersections between trajectories and:\n",
    " - airspaces,\n",
    " - airports\n",
    " - and user defined airspaces. "
   ]
  },
  {
   "cell_type": "code",
   "execution_count": null,
   "metadata": {},
   "outputs": [],
   "source": [
    "import os\n",
    "import scripts.tasks as tasks\n",
    "from pru.trajectory_fields import is_valid_iso8601_date\n",
    "from pru.trajectory_files import DEFAULT_AIRPORTS_FILENAME, DEFAULT_AIRSPACES_FILENAME\n",
    "from pru.filesystem.data_store_operations import get_airports, get_airspaces, get_user_airspaces, \\\n",
    "  CPR, FR24, CPR_FR24, ANALYSIS_DIR\n",
    "from pru.db.geo.geo_admin import create_geo_database, initialise_airspace, initialise_airports\n",
    "from pru.trajectory_airport_intersections import DEFAULT_RADIUS\n",
    "from scripts.tasks import find_trajectory_sector_intersections, find_trajectory_airport_intersections, \\\n",
    "  find_trajectory_user_airspace_intersections"
   ]
  },
  {
   "cell_type": "markdown",
   "metadata": {},
   "source": [
    "## Create the GIS Database"
   ]
  },
  {
   "cell_type": "code",
   "execution_count": null,
   "metadata": {},
   "outputs": [],
   "source": [
    "create_geo_database()"
   ]
  },
  {
   "cell_type": "markdown",
   "metadata": {},
   "source": [
    "# Populate the Airspace Sectors\n",
    "\n",
    "Get the airspaces definition file from the airspaces bucket.  \n",
    "Then initialise the GIS database with the airspace definitions."
   ]
  },
  {
   "cell_type": "code",
   "execution_count": null,
   "metadata": {},
   "outputs": [],
   "source": [
    "os.chdir(ANALYSIS_DIR)\n",
    "airspaces_filename=DEFAULT_AIRSPACES_FILENAME\n",
    "airspaces_path = get_airspaces(airspaces_filename)\n",
    "airspaces_filepath = '/'.join([airspaces_path, airspaces_filename])\n",
    "airspaces_filepath"
   ]
  },
  {
   "cell_type": "code",
   "execution_count": null,
   "metadata": {},
   "outputs": [],
   "source": [
    "initialise_airspace(airspaces_filepath, True)"
   ]
  },
  {
   "cell_type": "markdown",
   "metadata": {},
   "source": [
    "## Find Trajectory Sector Intersections"
   ]
  },
  {
   "cell_type": "code",
   "execution_count": null,
   "metadata": {},
   "outputs": [],
   "source": [
    "os.chdir(ANALYSIS_DIR)\n",
    "trajectory_filename = input('trajectory file:')"
   ]
  },
  {
   "cell_type": "code",
   "execution_count": null,
   "metadata": {},
   "outputs": [],
   "source": [
    "data_source=CPR_FR24"
   ]
  },
  {
   "cell_type": "code",
   "execution_count": null,
   "metadata": {},
   "outputs": [],
   "source": [
    "find_trajectory_sector_intersections(trajectory_filename, data_source)"
   ]
  },
  {
   "cell_type": "markdown",
   "metadata": {},
   "source": [
    "# Populate the Airports\n",
    "\n",
    "Get the airports definition file from the airports bucket.  \n",
    "Then initialise the GIS database with the airport definitions."
   ]
  },
  {
   "cell_type": "code",
   "execution_count": null,
   "metadata": {},
   "outputs": [],
   "source": [
    "os.chdir(ANALYSIS_DIR)\n",
    "airports_filename=DEFAULT_AIRPORTS_FILENAME\n",
    "airports_path = get_airports(airports_filename)\n",
    "airports_filepath = '/'.join([airports_path, airports_filename])\n",
    "airports_filepath"
   ]
  },
  {
   "cell_type": "code",
   "execution_count": null,
   "metadata": {},
   "outputs": [],
   "source": [
    "initialise_airports(airports_filepath, True)"
   ]
  },
  {
   "cell_type": "markdown",
   "metadata": {},
   "source": [
    "## Find Trajectory Airport Cylinder Intersections"
   ]
  },
  {
   "cell_type": "code",
   "execution_count": null,
   "metadata": {},
   "outputs": [],
   "source": [
    "os.chdir(ANALYSIS_DIR)\n",
    "trajectory_filename = input('trajectory file:')"
   ]
  },
  {
   "cell_type": "code",
   "execution_count": null,
   "metadata": {},
   "outputs": [],
   "source": [
    "data_source=CPR_FR24\n",
    "radius=DEFAULT_RADIUS"
   ]
  },
  {
   "cell_type": "code",
   "execution_count": null,
   "metadata": {},
   "outputs": [],
   "source": [
    "find_trajectory_airport_intersections(trajectory_filename, data_source, radius)"
   ]
  },
  {
   "cell_type": "markdown",
   "metadata": {},
   "source": [
    "# Populate the User Defined Airspace\n",
    "\n",
    "Get the user airspace definition file from the airspaces/user bucket.\n",
    "Then initialise the GIS database with the airspace definitions."
   ]
  },
  {
   "cell_type": "code",
   "execution_count": null,
   "metadata": {},
   "outputs": [],
   "source": [
    "os.chdir(ANALYSIS_DIR)\n",
    "user_filename = input('user airspace file:')"
   ]
  },
  {
   "cell_type": "code",
   "execution_count": null,
   "metadata": {},
   "outputs": [],
   "source": [
    "user_path = get_user_airspaces(user_filename)\n",
    "user_filepath = '/'.join([user_path, user_filename])\n",
    "user_filepath"
   ]
  },
  {
   "cell_type": "code",
   "execution_count": null,
   "metadata": {},
   "outputs": [],
   "source": [
    "# TODO\n",
    "# initialise_user_airspace(user_filepath, True)"
   ]
  },
  {
   "cell_type": "markdown",
   "metadata": {},
   "source": [
    "## Find Trajectory User Airspace Intersections"
   ]
  },
  {
   "cell_type": "code",
   "execution_count": null,
   "metadata": {},
   "outputs": [],
   "source": [
    "os.chdir(ANALYSIS_DIR)\n",
    "trajectory_filename = input('trajectory file:')"
   ]
  },
  {
   "cell_type": "code",
   "execution_count": null,
   "metadata": {},
   "outputs": [],
   "source": [
    "data_source=CPR_FR24"
   ]
  },
  {
   "cell_type": "code",
   "execution_count": null,
   "metadata": {},
   "outputs": [],
   "source": [
    "find_trajectory_user_airspace_intersections(trajectory_filename, data_source)"
   ]
  }
 ],
 "metadata": {
  "kernelspec": {
   "display_name": "Python 3",
   "language": "python",
   "name": "python3"
  },
  "language_info": {
   "codemirror_mode": {
    "name": "ipython",
    "version": 3
   },
   "file_extension": ".py",
   "mimetype": "text/x-python",
   "name": "python",
   "nbconvert_exporter": "python",
   "pygments_lexer": "ipython3",
   "version": "3.6.3"
  }
 },
 "nbformat": 4,
 "nbformat_minor": 2
}
