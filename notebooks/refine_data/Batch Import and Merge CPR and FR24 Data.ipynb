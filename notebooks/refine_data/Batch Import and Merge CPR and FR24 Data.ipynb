{
 "cells": [
  {
   "cell_type": "markdown",
   "metadata": {},
   "source": [
    "# Batch Import and Merge CPR and FR24 Data\n",
    "\n",
    "This notebook imports and merges CPR and FR24 data over a range of dates.\n",
    "\n",
    "Note: the previous day must have been processed beforehand, otherwise the merge_cpr_fr24_overnight_flights task will fail!"
   ]
  },
  {
   "cell_type": "code",
   "execution_count": null,
   "metadata": {},
   "outputs": [],
   "source": [
    "from datetime import timedelta\n",
    "from pru.trajectory_fields import is_valid_iso8601_date, iso8601_date_parser, ISO8601_DATE_FORMAT\n",
    "from scripts.task_wrappers import refine_cpr_data, refine_fr24_data, merge_cpr_fr24_data\n",
    "from scripts.task_wrappers import merge_cpr_fr24_overnight_flights"
   ]
  },
  {
   "cell_type": "markdown",
   "metadata": {},
   "source": [
    "# The Date range\n",
    "\n",
    "CPR and FR24 data for a day is processed together.  \n",
    "Enter the range of dates in ISO8601 format, e.g. 2017-08-02 and 2017-09-01"
   ]
  },
  {
   "cell_type": "code",
   "execution_count": null,
   "metadata": {},
   "outputs": [],
   "source": [
    "from_date = input('from date: ')\n",
    "while not is_valid_iso8601_date(from_date):\n",
    "    print ('Please enter a valid ISO8601 date')\n",
    "    from_date = input('from date: ')"
   ]
  },
  {
   "cell_type": "code",
   "execution_count": null,
   "metadata": {},
   "outputs": [],
   "source": [
    "to_date = input('to date: ')\n",
    "while not is_valid_iso8601_date(to_date):\n",
    "    print ('Please enter a valid ISO8601 date')\n",
    "    to_date = input('to date: ')"
   ]
  },
  {
   "cell_type": "markdown",
   "metadata": {},
   "source": [
    "# Upload, refine and merge the CPR and FR24 data in a range of dates"
   ]
  },
  {
   "cell_type": "code",
   "execution_count": null,
   "metadata": {},
   "outputs": [],
   "source": [
    "datet = iso8601_date_parser(from_date)\n",
    "finish = iso8601_date_parser(to_date)\n",
    "ok = True\n",
    "while ok and (datet <= finish):\n",
    "    date = datet.strftime(ISO8601_DATE_FORMAT)\n",
    "    ok = refine_cpr_data(date)\n",
    "    \n",
    "    if ok:\n",
    "        ok = refine_fr24_data(date)\n",
    "        \n",
    "    if ok:\n",
    "        ok = merge_cpr_fr24_data(date)\n",
    "        \n",
    "    if ok:\n",
    "        ok = merge_cpr_fr24_overnight_flights(date)\n",
    "        \n",
    "    datet += timedelta(days=1)\n",
    "    \n",
    "ok"
   ]
  }
 ],
 "metadata": {
  "kernelspec": {
   "display_name": "Python 3",
   "language": "python",
   "name": "python3"
  },
  "language_info": {
   "codemirror_mode": {
    "name": "ipython",
    "version": 3
   },
   "file_extension": ".py",
   "mimetype": "text/x-python",
   "name": "python",
   "nbconvert_exporter": "python",
   "pygments_lexer": "ipython3",
   "version": "3.6.3"
  }
 },
 "nbformat": 4,
 "nbformat_minor": 2
}
