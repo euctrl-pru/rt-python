{
 "cells": [
  {
   "cell_type": "markdown",
   "metadata": {},
   "source": [
    "# Fleet Data Notebook\n",
    "\n",
    "This notebook contains functions to initialise and populate the aircraft fleet database."
   ]
  },
  {
   "cell_type": "code",
   "execution_count": null,
   "metadata": {
    "collapsed": true
   },
   "outputs": [],
   "source": [
    "import os\n",
    "from datetime import timedelta\n",
    "from pru.trajectory_fields import is_valid_iso8601_date, iso8601_date_parser, ISO8601_DATE_FORMAT\n",
    "from pru.trajectory_files import create_fleet_data_filename\n",
    "from pru.filesystem.data_store_operations import get_processed, FLEET_DATA_DIR, PRODUCTS_FLEET\n",
    "from pru.db.reference.reference_admin import create_ref_db, initialise_fleet_data"
   ]
  },
  {
   "cell_type": "markdown",
   "metadata": {},
   "source": [
    "## Create the Reference Database"
   ]
  },
  {
   "cell_type": "code",
   "execution_count": null,
   "metadata": {
    "collapsed": true
   },
   "outputs": [],
   "source": [
    "create_ref_db()"
   ]
  },
  {
   "cell_type": "markdown",
   "metadata": {},
   "source": [
    "# The Date range\n",
    "\n",
    "The fleet data can be populated over a range of dates."
   ]
  },
  {
   "cell_type": "code",
   "execution_count": null,
   "metadata": {
    "collapsed": true
   },
   "outputs": [],
   "source": [
    "from_date = input('from date: ')\n",
    "while not is_valid_iso8601_date(from_date):\n",
    "    print ('Please enter a valid ISO8601 date')\n",
    "    from_date = input('from date: ')"
   ]
  },
  {
   "cell_type": "code",
   "execution_count": null,
   "metadata": {
    "collapsed": true
   },
   "outputs": [],
   "source": [
    "to_date = input('to date: ')\n",
    "while not is_valid_iso8601_date(to_date):\n",
    "    print ('Please enter a valid ISO8601 date')\n",
    "    to_date = input('to date: ')"
   ]
  },
  {
   "cell_type": "markdown",
   "metadata": {},
   "source": [
    "# Populate the Fleet Data"
   ]
  },
  {
   "cell_type": "code",
   "execution_count": null,
   "metadata": {
    "collapsed": true
   },
   "outputs": [],
   "source": [
    "os.chdir(FLEET_DATA_DIR)\n",
    "datet = iso8601_date_parser(from_date)\n",
    "finish = iso8601_date_parser(to_date)\n",
    "ok = True\n",
    "while ok and (datet <= finish):\n",
    "    date = datet.strftime(ISO8601_DATE_FORMAT)\n",
    "    fleet_filename = create_fleet_data_filename(date)\n",
    "    get_processed(PRODUCTS_FLEET, [fleet_filename])\n",
    "    ok = initialise_fleet_data(fleet_filename, reset=True)\n",
    "    if ok:\n",
    "        os.remove(fleet_filename)\n",
    "        \n",
    "    datet += timedelta(days=1)\n",
    "    \n",
    "ok"
   ]
  }
 ],
 "metadata": {
  "kernelspec": {
   "display_name": "Python 3",
   "language": "python",
   "name": "python3"
  },
  "language_info": {
   "codemirror_mode": {
    "name": "ipython",
    "version": 3
   },
   "file_extension": ".py",
   "mimetype": "text/x-python",
   "name": "python",
   "nbconvert_exporter": "python",
   "pygments_lexer": "ipython3",
   "version": "3.6.3"
  }
 },
 "nbformat": 4,
 "nbformat_minor": 2
}
