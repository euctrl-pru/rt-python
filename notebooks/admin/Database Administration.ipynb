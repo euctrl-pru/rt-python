{
 "cells": [
  {
   "cell_type": "markdown",
   "metadata": {},
   "source": [
    "# Databse Administration"
   ]
  },
  {
   "cell_type": "markdown",
   "metadata": {},
   "source": [
    "This notebook contains backup and restore operations.  Additionally the psql command line client is available\n",
    "from a single user notebook server terminal.  This can be started as :\n",
    "\n",
    "    psql -h $AIRSPACE_DB_SERVICE_HOST -U$DEPLOYMENT_TYPE_admin $DEPLOYMENT_TYPE_data \n",
    "\n",
    "or \n",
    "\n",
    "    psql -h $REFERENCE_DB_SERVICE_HOST -U$DEPLOYMENT_TYPE_admin $DEPLOYMENT_TYPE_data \n",
    "    \n",
    "Manual backups can be run from a single user notebook server terminal for example by running :\n",
    "\n",
    "    pg_dump -h $AIRSPACE_DB_SERVICE_HOST -Upostgres > backup-file-name.sql\n",
    "\n",
    "and\n",
    "\n",
    "    psql -h $AIRSPACE_DB_SERVICE_HOST -Upostgres < backup-file-name.sql\n"
   ]
  },
  {
   "cell_type": "markdown",
   "metadata": {},
   "source": [
    "## Backups"
   ]
  },
  {
   "cell_type": "code",
   "execution_count": null,
   "metadata": {},
   "outputs": [],
   "source": [
    "from pru.db.admin.backup import backup_reference, backup_airspace"
   ]
  },
  {
   "cell_type": "code",
   "execution_count": null,
   "metadata": {},
   "outputs": [],
   "source": [
    "ref_file = backup_reference()\n",
    "airspace_file = backup_airspace()\n",
    "ref_file, airspace_file"
   ]
  },
  {
   "cell_type": "markdown",
   "metadata": {},
   "source": [
    "## Restores"
   ]
  },
  {
   "cell_type": "code",
   "execution_count": null,
   "metadata": {},
   "outputs": [],
   "source": [
    "from pru.db.admin.backup import restore_reference\n",
    "date_time = input('ref-data-backup-date_time: ')"
   ]
  },
  {
   "cell_type": "code",
   "execution_count": null,
   "metadata": {},
   "outputs": [],
   "source": [
    "restore_reference(date_time)"
   ]
  },
  {
   "cell_type": "code",
   "execution_count": null,
   "metadata": {},
   "outputs": [],
   "source": [
    "from pru.db.admin.backup import restore_airspace\n",
    "date_time = input('airspace-data-backup-date_time: ')"
   ]
  },
  {
   "cell_type": "code",
   "execution_count": null,
   "metadata": {},
   "outputs": [],
   "source": [
    "restore_airspace(date_time)"
   ]
  },
  {
   "cell_type": "markdown",
   "metadata": {},
   "source": [
    "# Database Teardown And Recreate"
   ]
  },
  {
   "cell_type": "markdown",
   "metadata": {},
   "source": [
    "__NOTE THESEOPERATIONS WILL DELETE ALL THE DATA IN THE GIVEN DATABASE__"
   ]
  },
  {
   "cell_type": "code",
   "execution_count": null,
   "metadata": {},
   "outputs": [],
   "source": [
    "from pru.db.geo.geo_admin import remove_geo_db\n",
    "from pru.db.reference.reference_admin import remove_ref_db\n",
    "from pru.db.common_init import create, DB_TYPE_GEO, DB_TYPE_REF\n",
    "from pru.db.geo.geo_init import create as create_geo\n",
    "from pru.db.reference.ref_init import create as create_ref"
   ]
  },
  {
   "cell_type": "markdown",
   "metadata": {},
   "source": [
    "## Airspace"
   ]
  },
  {
   "cell_type": "code",
   "execution_count": null,
   "metadata": {},
   "outputs": [],
   "source": [
    "#\n",
    "# TEARDOWN AIRSPACE DB\n",
    "#\n",
    "remove_geo_db()"
   ]
  },
  {
   "cell_type": "code",
   "execution_count": null,
   "metadata": {},
   "outputs": [],
   "source": [
    "#\n",
    "# CREATE AIRSPACE DB\n",
    "#\n",
    "create(DB_TYPE_GEO)\n",
    "create_geo()"
   ]
  },
  {
   "cell_type": "markdown",
   "metadata": {},
   "source": [
    "## Add Data"
   ]
  },
  {
   "cell_type": "code",
   "execution_count": null,
   "metadata": {},
   "outputs": [],
   "source": [
    "from pru.db.geo.geo_admin import initialise_airspace, initialise_airports, initialise_user_airspace"
   ]
  },
  {
   "cell_type": "markdown",
   "metadata": {},
   "source": [
    "### Add Airspace Data From A geojson File"
   ]
  },
  {
   "cell_type": "code",
   "execution_count": null,
   "metadata": {},
   "outputs": [],
   "source": [
    "initialise_airspace('ES_428.geojson')"
   ]
  },
  {
   "cell_type": "markdown",
   "metadata": {},
   "source": [
    "## Add User Sectors From CSV File"
   ]
  },
  {
   "cell_type": "code",
   "execution_count": null,
   "metadata": {},
   "outputs": [],
   "source": [
    "initialise_user_airspace('user_defined_airspaces.csv')"
   ]
  },
  {
   "cell_type": "markdown",
   "metadata": {},
   "source": [
    "## Add Airports From CSV File"
   ]
  },
  {
   "cell_type": "code",
   "execution_count": null,
   "metadata": {},
   "outputs": [],
   "source": [
    "initialise_airports('airports.csv')"
   ]
  },
  {
   "cell_type": "markdown",
   "metadata": {},
   "source": [
    "## Reference"
   ]
  },
  {
   "cell_type": "code",
   "execution_count": null,
   "metadata": {},
   "outputs": [],
   "source": [
    "#\n",
    "# TEARDOWN REFERENCE DB\n",
    "#\n",
    "remove_ref_db()"
   ]
  },
  {
   "cell_type": "code",
   "execution_count": null,
   "metadata": {},
   "outputs": [],
   "source": [
    "#\n",
    "# CREATE REFERENCE DB\n",
    "#\n",
    "create(DB_TYPE_REF)\n",
    "create_ref()"
   ]
  },
  {
   "cell_type": "markdown",
   "metadata": {},
   "source": [
    "## Add Data"
   ]
  },
  {
   "cell_type": "code",
   "execution_count": null,
   "metadata": {},
   "outputs": [],
   "source": [
    "from pru.db.reference.reference_admin import initialise_fleet_data \n",
    "initialise_fleet_data('fleet_data_2017-07-01.csv')"
   ]
  }
 ],
 "metadata": {
  "kernelspec": {
   "display_name": "Python 3",
   "language": "python",
   "name": "python3"
  },
  "language_info": {
   "codemirror_mode": {
    "name": "ipython",
    "version": 3
   },
   "file_extension": ".py",
   "mimetype": "text/x-python",
   "name": "python",
   "nbconvert_exporter": "python",
   "pygments_lexer": "ipython3",
   "version": "3.6.5"
  }
 },
 "nbformat": 4,
 "nbformat_minor": 2
}
