{
 "cells": [
  {
   "cell_type": "markdown",
   "metadata": {},
   "source": [
    "# Visualise Trajectory Positions\n",
    "\n",
    "Visualise the positions for flight in a trajectory positions file containing multiple flights."
   ]
  },
  {
   "cell_type": "code",
   "execution_count": null,
   "metadata": {
    "collapsed": true
   },
   "outputs": [],
   "source": [
    "import pandas as pd\n",
    "import matplotlib.pyplot as plt\n",
    "import mplleaflet\n",
    "import folium"
   ]
  },
  {
   "cell_type": "markdown",
   "metadata": {
    "collapsed": true
   },
   "source": [
    "## Get the positions filename from the user\n",
    "\n",
    "Ask for the positions filename and read the file into a pandas DataFrame"
   ]
  },
  {
   "cell_type": "code",
   "execution_count": null,
   "metadata": {
    "scrolled": true
   },
   "outputs": [],
   "source": [
    "filename = input('Enter positions filename:')"
   ]
  },
  {
   "cell_type": "code",
   "execution_count": null,
   "metadata": {},
   "outputs": [],
   "source": [
    "points_df = pd.read_csv(filename, parse_dates=['TIME'])\n",
    "len(points_df)"
   ]
  },
  {
   "cell_type": "markdown",
   "metadata": {},
   "source": [
    "## Get the flight id\n",
    "\n",
    "Ask for the flight id and select the positions for the flight from the points DataFrame"
   ]
  },
  {
   "cell_type": "code",
   "execution_count": null,
   "metadata": {},
   "outputs": [],
   "source": [
    "flight_id = input('Enter flight id:')\n",
    "traj_df = points_df.loc[points_df['FLIGHT_ID'] == int(flight_id)]\n",
    "len(traj_df)"
   ]
  },
  {
   "cell_type": "code",
   "execution_count": null,
   "metadata": {
    "collapsed": true
   },
   "outputs": [],
   "source": [
    "traj_df.head()"
   ]
  },
  {
   "cell_type": "markdown",
   "metadata": {},
   "source": [
    "## Read and plot the positions"
   ]
  },
  {
   "cell_type": "code",
   "execution_count": null,
   "metadata": {
    "collapsed": true
   },
   "outputs": [],
   "source": [
    "# Get the Latitude and Longitude columns.\n",
    "lat = traj_df['LAT'].values\n",
    "lng = traj_df['LON'].values\n",
    "\n",
    "# Plot the Latitude and Longitude with matplotlib\n",
    "fig, ax = plt.subplots()\n",
    "ax.plot(lng, lat, linewidth=5, alpha=0.5)\n",
    "\n",
    "# Convert the matplotlib plot into GeoJson for leaflet\n",
    "gj = mplleaflet.fig_to_geojson(fig=fig)\n",
    "gjson = folium.features.GeoJson(gj['features'][0])\n",
    "len(traj_df)"
   ]
  },
  {
   "cell_type": "code",
   "execution_count": null,
   "metadata": {
    "collapsed": true
   },
   "outputs": [],
   "source": [
    "# Create a leaflet map using the folium python library\n",
    "map_mb = folium.Map(location=[50.0, 10.0], zoom_start=5, tiles='Mapbox Bright')\n",
    "map_mb.add_child(gjson)\n",
    "map_mb"
   ]
  }
 ],
 "metadata": {
  "kernelspec": {
   "display_name": "Python 3",
   "language": "python",
   "name": "python3"
  },
  "language_info": {
   "codemirror_mode": {
    "name": "ipython",
    "version": 3
   },
   "file_extension": ".py",
   "mimetype": "text/x-python",
   "name": "python",
   "nbconvert_exporter": "python",
   "pygments_lexer": "ipython3",
   "version": "3.6.2"
  }
 },
 "nbformat": 4,
 "nbformat_minor": 2
}
