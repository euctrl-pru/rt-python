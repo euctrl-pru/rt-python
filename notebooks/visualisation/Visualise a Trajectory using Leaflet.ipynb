{
 "cells": [
  {
   "cell_type": "markdown",
   "metadata": {},
   "source": [
    "# Visualise a Trajectory using Leaflet\n",
    "\n",
    "Visualise trajectory positions for a file containing positions for a single flight."
   ]
  },
  {
   "cell_type": "code",
   "execution_count": null,
   "metadata": {
    "collapsed": true
   },
   "outputs": [],
   "source": [
    "import pandas as pd\n",
    "import folium\n",
    "\n",
    "# print(folium.__version__)"
   ]
  },
  {
   "cell_type": "markdown",
   "metadata": {
    "collapsed": true
   },
   "source": [
    "## Get the positions filename from the user\n",
    "Ask for the positions filename and read the file into a pandas DataFrame"
   ]
  },
  {
   "cell_type": "code",
   "execution_count": null,
   "metadata": {
    "scrolled": true
   },
   "outputs": [],
   "source": [
    "filename = input('Enter a positions filename:')\n",
    "points_df = pd.read_csv(filename)\n",
    "len(points_df)"
   ]
  },
  {
   "cell_type": "code",
   "execution_count": null,
   "metadata": {
    "collapsed": true
   },
   "outputs": [],
   "source": [
    "# Get the point coordinates as a nested list from the points_df dataframe\n",
    "point_locations = points_df[['LAT','LON']].values.tolist()"
   ]
  },
  {
   "cell_type": "markdown",
   "metadata": {},
   "source": [
    "## Plot the positions\n",
    "\n",
    "Create a folium map roughly over the centre of Europe.   \n",
    "'Cartodb Positron' is a tile collection that shows airports."
   ]
  },
  {
   "cell_type": "code",
   "execution_count": null,
   "metadata": {
    "collapsed": true
   },
   "outputs": [],
   "source": [
    "# Create the map\n",
    "map_mb = folium.Map(location=[50.0, 10.0], zoom_start=5, tiles='Cartodb Positron')"
   ]
  },
  {
   "cell_type": "code",
   "execution_count": null,
   "metadata": {},
   "outputs": [],
   "source": [
    "BLACK = '#000000'\n",
    "\n",
    "# Add a PolyLine to show point_locations\n",
    "folium.PolyLine(\n",
    "    locations=point_locations,\n",
    "    color=BLACK,\n",
    "    weight=4,\n",
    "    tooltip='filename',\n",
    ").add_to(map_mb)"
   ]
  },
  {
   "cell_type": "code",
   "execution_count": null,
   "metadata": {},
   "outputs": [],
   "source": [
    "# Display the map\n",
    "map_mb"
   ]
  }
 ],
 "metadata": {
  "kernelspec": {
   "display_name": "Python 3",
   "language": "python",
   "name": "python3"
  },
  "language_info": {
   "codemirror_mode": {
    "name": "ipython",
    "version": 3
   },
   "file_extension": ".py",
   "mimetype": "text/x-python",
   "name": "python",
   "nbconvert_exporter": "python",
   "pygments_lexer": "ipython3",
   "version": "3.6.2"
  }
 },
 "nbformat": 4,
 "nbformat_minor": 2
}
