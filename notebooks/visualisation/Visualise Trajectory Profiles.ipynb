{
 "cells": [
  {
   "cell_type": "markdown",
   "metadata": {},
   "source": [
    "# Visualise Trajectory Profiles"
   ]
  },
  {
   "cell_type": "code",
   "execution_count": null,
   "metadata": {
    "collapsed": true
   },
   "outputs": [],
   "source": [
    "import numpy as np\n",
    "import pandas as pd\n",
    "import folium\n",
    "import matplotlib.pyplot as plt\n",
    "%matplotlib inline\n",
    "\n",
    "from pru.EcefPoint import rad2nm\n",
    "from pru.EcefPath import EcefPath\n",
    "from pru.ecef_functions import calculate_EcefPoints\n",
    "from pru.trajectory_functions import calculate_elapsed_times, calculate_speed\n",
    "from pru.horizontal_path_functions import derive_horizontal_path\n",
    "from pru.trajectory_analysis import DEFAULT_ACROSS_TRACK_TOLERANCE, \\\n",
    "    calculate_ground_speeds, smooth_times"
   ]
  },
  {
   "cell_type": "markdown",
   "metadata": {},
   "source": [
    "## Get positions file\n",
    "Examples:   \n",
    "286375_cpr_positions_2017-07-01.csv  \n",
    "286757_cpr_positions_2017-07-01.csv  \n",
    "287041_cpr_positions_2017-07-01.csv  "
   ]
  },
  {
   "cell_type": "code",
   "execution_count": null,
   "metadata": {},
   "outputs": [],
   "source": [
    "filename = input('filename: ')\n",
    "points_df = pd.read_csv(filename, parse_dates=['TIME'])\n",
    "len(points_df)"
   ]
  },
  {
   "cell_type": "markdown",
   "metadata": {},
   "source": [
    "## Plot the positions"
   ]
  },
  {
   "cell_type": "code",
   "execution_count": null,
   "metadata": {
    "collapsed": true
   },
   "outputs": [],
   "source": [
    "# Get the point coordinates as a nested list from the points_df dataframe\n",
    "point_locations = points_df[['LAT','LON']].values.tolist()"
   ]
  },
  {
   "cell_type": "code",
   "execution_count": null,
   "metadata": {
    "collapsed": true
   },
   "outputs": [],
   "source": [
    "# Create the map\n",
    "map_mb = folium.Map(location=[50.0, 10.0], zoom_start=5, tiles='Cartodb Positron')"
   ]
  },
  {
   "cell_type": "code",
   "execution_count": null,
   "metadata": {},
   "outputs": [],
   "source": [
    "BLACK = '#000000'\n",
    "BLUE = '#0000FF'\n",
    "RED = '#FF0000'\n",
    "\n",
    "# Add a PolyLine to show point_locations\n",
    "folium.PolyLine(\n",
    "    locations=point_locations,\n",
    "    color=BLACK,\n",
    "    weight=4,\n",
    "    tooltip=filename,\n",
    ").add_to(map_mb)"
   ]
  },
  {
   "cell_type": "code",
   "execution_count": null,
   "metadata": {
    "scrolled": false
   },
   "outputs": [],
   "source": [
    "# Display the map\n",
    "map_mb"
   ]
  },
  {
   "cell_type": "markdown",
   "metadata": {},
   "source": [
    "## Calculate the Horizontal Path"
   ]
  },
  {
   "cell_type": "code",
   "execution_count": null,
   "metadata": {
    "collapsed": true,
    "scrolled": false
   },
   "outputs": [],
   "source": [
    "ecef_points = calculate_EcefPoints(points_df['LAT'].values,\n",
    "                                   points_df['LON'].values)"
   ]
  },
  {
   "cell_type": "code",
   "execution_count": null,
   "metadata": {
    "collapsed": true
   },
   "outputs": [],
   "source": [
    "threshold = 2 * DEFAULT_ACROSS_TRACK_TOLERANCE"
   ]
  },
  {
   "cell_type": "code",
   "execution_count": null,
   "metadata": {},
   "outputs": [],
   "source": [
    "threshold=np.deg2rad(threshold / 60.0)\n",
    "ecef_path = derive_horizontal_path(ecef_points,\n",
    "                                   threshold=threshold)\n",
    "len(ecef_path)"
   ]
  },
  {
   "cell_type": "code",
   "execution_count": null,
   "metadata": {},
   "outputs": [],
   "source": [
    "ecef_path_distances = rad2nm(ecef_path.path_distances())\n",
    "ecef_path_length = ecef_path_distances[-1]\n",
    "ecef_path_length"
   ]
  },
  {
   "cell_type": "markdown",
   "metadata": {},
   "source": [
    "## Plot Horizontal Path"
   ]
  },
  {
   "cell_type": "code",
   "execution_count": null,
   "metadata": {
    "collapsed": true
   },
   "outputs": [],
   "source": [
    "waypoint_locations = []\n",
    "for point in ecef_path.points:\n",
    "    waypoint_locations.append(point.to_lat_long())\n",
    "#waypoint_locations"
   ]
  },
  {
   "cell_type": "code",
   "execution_count": null,
   "metadata": {},
   "outputs": [],
   "source": [
    "# Add a PolyLine to show point_locations\n",
    "folium.PolyLine(\n",
    "    locations=point_locations,\n",
    "    color=RED,\n",
    "    weight=2,\n",
    "    tooltip='raw points',\n",
    ").add_to(map_mb)\n",
    "\n",
    "# Add a PolyLine to show waypoint_locations\n",
    "folium.PolyLine(\n",
    "    locations=waypoint_locations,\n",
    "    color=BLUE,\n",
    "    weight=2,\n",
    "    tooltip='extreme points',\n",
    ").add_to(map_mb)"
   ]
  },
  {
   "cell_type": "code",
   "execution_count": null,
   "metadata": {
    "scrolled": false
   },
   "outputs": [],
   "source": [
    "# Display the map\n",
    "map_mb"
   ]
  },
  {
   "cell_type": "markdown",
   "metadata": {},
   "source": [
    "## Sort Points\n",
    "\n",
    "Calculate distances along the horizontal path. \n",
    "\n",
    "Create a new \"sorted\" Data frame, sorted by this distance and time.  \n",
    "Determine whether the sort order has changed."
   ]
  },
  {
   "cell_type": "code",
   "execution_count": null,
   "metadata": {},
   "outputs": [],
   "source": [
    "path_distances = rad2nm(ecef_path.calculate_path_distances(ecef_points, threshold))\n",
    "len(path_distances)"
   ]
  },
  {
   "cell_type": "code",
   "execution_count": null,
   "metadata": {},
   "outputs": [],
   "source": [
    "path_length = path_distances[-1]\n",
    "path_length"
   ]
  },
  {
   "cell_type": "code",
   "execution_count": null,
   "metadata": {
    "collapsed": true
   },
   "outputs": [],
   "source": [
    "# Sort positions by path distance then time\n",
    "sorted_df = pd.DataFrame({'distance': path_distances,\n",
    "                          'time': points_df['TIME'].values,\n",
    "                          'altitude': points_df['ALT'].values,\n",
    "                          'points': ecef_points})\n",
    "sorted_df.sort_values(by=['distance', 'time'], inplace=True)"
   ]
  },
  {
   "cell_type": "code",
   "execution_count": null,
   "metadata": {},
   "outputs": [],
   "source": [
    "# determine whether the position order has changed\n",
    "sorted_path_distances = sorted_df['distance'].values\n",
    "unordered = (path_distances != sorted_path_distances)\n",
    "unordered.any()"
   ]
  },
  {
   "cell_type": "markdown",
   "metadata": {},
   "source": [
    "## Display Vertical Profile\n",
    "\n",
    "Plot the vertical profile as altiude vs path distance."
   ]
  },
  {
   "cell_type": "code",
   "execution_count": null,
   "metadata": {},
   "outputs": [],
   "source": [
    "alts = sorted_df['altitude'].values\n",
    "len(alts)"
   ]
  },
  {
   "cell_type": "code",
   "execution_count": null,
   "metadata": {},
   "outputs": [],
   "source": [
    "fig, ax = plt.subplots(figsize=(15, 10))\n",
    "ax.set(title='Vertical Profile',\n",
    "       xlabel='Path Distance (NM)',\n",
    "       ylabel='Altitude (feet)')\n",
    "plt.plot(sorted_path_distances, alts, 'o-')\n",
    "for i in range(len(sorted_path_distances)):\n",
    "    ax.annotate(str(i), (sorted_path_distances[i], alts[i] +500))\n",
    "plt.show"
   ]
  },
  {
   "cell_type": "markdown",
   "metadata": {},
   "source": [
    "## Calculate Ground Speeds\n",
    "\n",
    "Calculate ground speeds between positions from the \n",
    "path distances and elapsed times from the first position."
   ]
  },
  {
   "cell_type": "code",
   "execution_count": null,
   "metadata": {},
   "outputs": [],
   "source": [
    "times = sorted_df['time'].values\n",
    "elapsed_times = calculate_elapsed_times(times, times[0])\n",
    "len(elapsed_times)"
   ]
  },
  {
   "cell_type": "code",
   "execution_count": null,
   "metadata": {},
   "outputs": [],
   "source": [
    "speeds = calculate_ground_speeds(sorted_path_distances, elapsed_times, 120)  \n",
    "len (speeds)"
   ]
  },
  {
   "cell_type": "markdown",
   "metadata": {},
   "source": [
    "## Plot Ground Speeds\n",
    "\n",
    "Plot ground speeds vs path distance.\n",
    "\n",
    "Note: the first speed is always zero."
   ]
  },
  {
   "cell_type": "code",
   "execution_count": null,
   "metadata": {
    "scrolled": false
   },
   "outputs": [],
   "source": [
    "fig, ax = plt.subplots(figsize=(15, 10))\n",
    "ax.set(title='Speed Profile',\n",
    "       xlabel='Path Distance (NM)',\n",
    "       ylabel='Ground Speed (Knots)')\n",
    "plt.plot(sorted_path_distances, speeds, 'o-')\n",
    "for i in range(len(sorted_path_distances)):\n",
    "   ax.annotate(str(i), (sorted_path_distances[i], speeds[i] +10))\n",
    "plt.show"
   ]
  },
  {
   "cell_type": "markdown",
   "metadata": {},
   "source": [
    "## Smooth Times and Ground Speeds\n",
    "\n",
    "Use the smooth_times to smooth the elapsed_times."
   ]
  },
  {
   "cell_type": "code",
   "execution_count": null,
   "metadata": {},
   "outputs": [],
   "source": [
    "smoothed_times = smooth_times(sorted_path_distances, elapsed_times, 5, 3, 120.0)\n",
    "len(smoothed_times)"
   ]
  },
  {
   "cell_type": "code",
   "execution_count": null,
   "metadata": {
    "collapsed": true
   },
   "outputs": [],
   "source": [
    "# Calculate differences from elapsed_times\n",
    "delta_times = smoothed_times - elapsed_times\n",
    "# delta_times"
   ]
  },
  {
   "cell_type": "markdown",
   "metadata": {},
   "source": [
    "### Calculate the mean time difference"
   ]
  },
  {
   "cell_type": "code",
   "execution_count": null,
   "metadata": {},
   "outputs": [],
   "source": [
    "mean_delta = np.sum(delta_times) / len(delta_times)\n",
    "mean_delta"
   ]
  },
  {
   "cell_type": "markdown",
   "metadata": {},
   "source": [
    "### Calculate the time Standard Deviation"
   ]
  },
  {
   "cell_type": "code",
   "execution_count": null,
   "metadata": {},
   "outputs": [],
   "source": [
    "# Offset the smoothed_times by the mean time difference\n",
    "smoothed_times = smoothed_times - mean_delta\n",
    "\n",
    "sq_delta_times = (smoothed_times - elapsed_times) ** 2\n",
    "time_sd = np.sqrt(np.sum(sq_delta_times) / (len(sq_delta_times) - 1))\n",
    "time_sd"
   ]
  },
  {
   "cell_type": "code",
   "execution_count": null,
   "metadata": {},
   "outputs": [],
   "source": [
    "leg_lengths = np.ediff1d(sorted_path_distances, to_begin=[0])\n",
    "smoothed_durations = np.ediff1d(smoothed_times, to_begin=[0])\n",
    "smoothed_speeds = calculate_speed(leg_lengths, smoothed_durations)"
   ]
  },
  {
   "cell_type": "code",
   "execution_count": null,
   "metadata": {
    "scrolled": false
   },
   "outputs": [],
   "source": [
    "fig, ax = plt.subplots(figsize=(15, 10))\n",
    "ax.set(title='Smoothed Speed Profile',\n",
    "       xlabel='Path Distance (NM)',\n",
    "       ylabel='Ground Speed (Knots)')\n",
    "plt.plot(sorted_path_distances, smoothed_speeds, 'o-')\n",
    "for i in range(len(sorted_path_distances)):\n",
    "    ax.annotate(str(i), (sorted_path_distances[i], smoothed_speeds[i] +10))\n",
    "plt.show"
   ]
  },
  {
   "cell_type": "code",
   "execution_count": null,
   "metadata": {
    "collapsed": true
   },
   "outputs": [],
   "source": []
  }
 ],
 "metadata": {
  "kernelspec": {
   "display_name": "Python 3",
   "language": "python",
   "name": "python3"
  },
  "language_info": {
   "codemirror_mode": {
    "name": "ipython",
    "version": 3
   },
   "file_extension": ".py",
   "mimetype": "text/x-python",
   "name": "python",
   "nbconvert_exporter": "python",
   "pygments_lexer": "ipython3",
   "version": "3.6.2"
  }
 },
 "nbformat": 4,
 "nbformat_minor": 2
}
