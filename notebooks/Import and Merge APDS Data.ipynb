{
 "cells": [
  {
   "cell_type": "markdown",
   "metadata": {},
   "source": [
    "# Import and Merge APDS Data\n",
    "\n",
    "This notebook imports and refines raw APDS data.  \n",
    "It then merges the APDS data with merged CPR and FR24 data."
   ]
  },
  {
   "cell_type": "code",
   "execution_count": null,
   "metadata": {},
   "outputs": [],
   "source": [
    "import os\n",
    "from datetime import timedelta\n",
    "from pru.trajectory_fields import split_dual_date, iso8601_date_parser, ISO8601_DATE_FORMAT\n",
    "from pru.trajectory_files import DEFAULT_STANDS_FILENAME\n",
    "from pru.filesystem.data_store_operations import MERGED_DIR\n",
    "from scripts.tasks import refine_apds_file\n",
    "from scripts.task_wrappers import merge_apds_data"
   ]
  },
  {
   "cell_type": "markdown",
   "metadata": {},
   "source": [
    "##  Input name of the APDS data file\n",
    "\n",
    "E.g.: FAC_APDS_FLIGHT_IR691_2017-08-01_2017-09-01.csv.bz2\n",
    "\n",
    "Note: the file must be upload/apds bucket."
   ]
  },
  {
   "cell_type": "code",
   "execution_count": null,
   "metadata": {},
   "outputs": [],
   "source": [
    "apds_filename = input('APDS filename: ')"
   ]
  },
  {
   "cell_type": "markdown",
   "metadata": {},
   "source": [
    "## Import and Refine the APDS Data\n",
    "\n",
    "`refine_apds_file` imports the APDS file from the bucket and converts it into\n",
    "flights, positions and events in the common format.\n",
    "\n",
    "Note: `refine_apds_file` only creates positions if a stands filename is given.\n",
    "\n",
    "This process takes about 3 minutes."
   ]
  },
  {
   "cell_type": "code",
   "execution_count": null,
   "metadata": {
    "scrolled": true
   },
   "outputs": [],
   "source": [
    "os.chdir(MERGED_DIR)\n",
    "refine_apds_file(apds_filename, DEFAULT_STANDS_FILENAME)"
   ]
  },
  {
   "cell_type": "markdown",
   "metadata": {},
   "source": [
    "## Merge the APDS Data with CPR and FR24 Data\n",
    "\n",
    "The refined APDS data is merged with \"overnight\" merged CPR/FR24 data.\n",
    "\n",
    "The loop below attempts to get the merged CPR/FR24 data for every day in the APDS data file.  \n",
    "The CPR/FR24 data is matched and merged with the APDS data and written to the sources/merged/apds_cpr_fr24 bucket.\n",
    "\n",
    "This process takes about 10 minutes per day."
   ]
  },
  {
   "cell_type": "code",
   "execution_count": null,
   "metadata": {
    "scrolled": false
   },
   "outputs": [],
   "source": [
    "os.chdir(MERGED_DIR)\n",
    "from_date, to_date = split_dual_date(apds_filename)\n",
    "datet = iso8601_date_parser(from_date)\n",
    "finish = iso8601_date_parser(to_date)\n",
    "ok = True\n",
    "while ok and (datet <= finish):\n",
    "    date = datet.strftime(ISO8601_DATE_FORMAT)\n",
    "    ok = merge_apds_data(from_date, to_date, str(date))\n",
    "    datet += timedelta(days=1)\n",
    "\n",
    "ok"
   ]
  }
 ],
 "metadata": {
  "kernelspec": {
   "display_name": "Python 3",
   "language": "python",
   "name": "python3"
  },
  "language_info": {
   "codemirror_mode": {
    "name": "ipython",
    "version": 3
   },
   "file_extension": ".py",
   "mimetype": "text/x-python",
   "name": "python",
   "nbconvert_exporter": "python",
   "pygments_lexer": "ipython3",
   "version": "3.6.3"
  }
 },
 "nbformat": 4,
 "nbformat_minor": 2
}
