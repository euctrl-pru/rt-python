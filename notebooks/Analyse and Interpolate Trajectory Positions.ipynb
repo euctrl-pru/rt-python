{
 "cells": [
  {
   "cell_type": "markdown",
   "metadata": {},
   "source": [
    "# Analyse and Interpolate Trajectory Positions\n",
    "\n",
    "This notebook contains functions to analyse and interpolate CPR, FR24 and merged CPR_FR24 trajectory positions."
   ]
  },
  {
   "cell_type": "code",
   "execution_count": null,
   "metadata": {},
   "outputs": [],
   "source": [
    "import os\n",
    "import scripts.tasks as tasks\n",
    "from pru.trajectory_fields import is_valid_iso8601_date\n",
    "from pru.filesystem.data_store_operations import CPR, FR24, CPR_FR24, ANALYSIS_DIR\n",
    "from scripts.tasks import analyse_positions_on_date, interpolate_trajectory_file"
   ]
  },
  {
   "cell_type": "markdown",
   "metadata": {},
   "source": [
    "## The Date\n",
    "\n",
    "Data is processed a day at a time.  \n",
    "Please enter the day's date in ISO8601 format, e.g. 2018-05-04"
   ]
  },
  {
   "cell_type": "code",
   "execution_count": null,
   "metadata": {},
   "outputs": [],
   "source": [
    "date = input('date: ')\n",
    "while not is_valid_iso8601_date(date):\n",
    "    print ('PLease enter a valid ISO8601 date')\n",
    "    date = input('date: ')"
   ]
  },
  {
   "cell_type": "markdown",
   "metadata": {},
   "source": [
    "## The Data Source\n",
    "\n",
    "Valid data sources are: CPR, FR24 and CPR_FR24.  \n",
    "The default is CPR_FR24, i.e. merged overnight CPR and FR24 trajectory positions."
   ]
  },
  {
   "cell_type": "code",
   "execution_count": null,
   "metadata": {},
   "outputs": [],
   "source": [
    "data_source = CPR_FR24"
   ]
  },
  {
   "cell_type": "markdown",
   "metadata": {},
   "source": [
    "## Analyse Positions\n",
    "\n",
    "Converts positions file into a trajectory and traj_metrics file.  \n",
    "The trajectory file is written to the /products/trajectories/<source> bucket directory, where source is: cpr, fr24 or cpr_fr24\n",
    "corresponding to the input data source.  \n",
    "The traj_metrics file is written to the equivalent /products/traj_metrics/<source> bucket directory.\n",
    "\n",
    "Note: the default CPR_FR24 dat source is from the merged \"overnight\" bucket directory.\n",
    "\n",
    "Note: analyse_position_data.py takes approx a second per a trajectory..."
   ]
  },
  {
   "cell_type": "code",
   "execution_count": null,
   "metadata": {},
   "outputs": [],
   "source": [
    "os.chdir(ANALYSIS_DIR)\n",
    "analyse_positions_on_date(date, data_source)"
   ]
  },
  {
   "cell_type": "markdown",
   "metadata": {},
   "source": [
    "## Interpolate Trajectory Positions\n",
    "\n",
    "This process interpolates the trajectories files output by analyse_position_data.\n",
    "\n",
    "It creates a ref_positions file which is written to the /products/ref_positions/<source> bucket directory, where source is: cpr, fr24 or cpr_fr24 corresponding to the input data source.\n",
    "\n",
    "Input a trajectory filename.  \n",
    "Note: the trajectory filename includes the time analysis method and the across track tolerance, e.g.: lm_05_cpr_fr24_trajectories_2017-07-01.json"
   ]
  },
  {
   "cell_type": "code",
   "execution_count": null,
   "metadata": {},
   "outputs": [],
   "source": [
    "filename = input('filename: ')"
   ]
  },
  {
   "cell_type": "code",
   "execution_count": null,
   "metadata": {
    "scrolled": false
   },
   "outputs": [],
   "source": [
    "interpolate_trajectory_file(filename, data_source)"
   ]
  }
 ],
 "metadata": {
  "kernelspec": {
   "display_name": "Python 3",
   "language": "python",
   "name": "python3"
  },
  "language_info": {
   "codemirror_mode": {
    "name": "ipython",
    "version": 3
   },
   "file_extension": ".py",
   "mimetype": "text/x-python",
   "name": "python",
   "nbconvert_exporter": "python",
   "pygments_lexer": "ipython3",
   "version": "3.6.3"
  }
 },
 "nbformat": 4,
 "nbformat_minor": 2
}
