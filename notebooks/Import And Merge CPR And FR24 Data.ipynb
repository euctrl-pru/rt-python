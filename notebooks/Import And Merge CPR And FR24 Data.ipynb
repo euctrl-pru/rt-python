{
 "cells": [
  {
   "cell_type": "markdown",
   "metadata": {},
   "source": [
    "# Import And Merge CPR And FR24 Data"
   ]
  },
  {
   "cell_type": "code",
   "execution_count": null,
   "metadata": {
    "collapsed": true
   },
   "outputs": [],
   "source": [
    "from pru.trajectory_fields import is_valid_iso8601_date\n",
    "from scripts.task_wrappers import refine_cpr_data, refine_fr24_data, merge_cpr_fr24_data\n",
    "from scripts.task_wrappers import merge_cpr_fr24_overnight_flights"
   ]
  },
  {
   "cell_type": "markdown",
   "metadata": {},
   "source": [
    "# The Date\n",
    "\n",
    "CPR and FR24 data for a day is processed together.  \n",
    "Please enter the day's date in ISO8601 format, e.g. 2018-05-04"
   ]
  },
  {
   "cell_type": "code",
   "execution_count": null,
   "metadata": {
    "collapsed": true
   },
   "outputs": [],
   "source": [
    "date = input('date: ')\n",
    "while not is_valid_iso8601_date(date):\n",
    "    print ('Please enter a valid ISO8601 date')\n",
    "    date = input('date: ')"
   ]
  },
  {
   "cell_type": "markdown",
   "metadata": {},
   "source": [
    "# Upload and refine CPR data\n",
    "\n",
    "Reads the CPR file for the date from the Google bucket /upload directory.\n",
    "\n",
    "Converts the data into CPR flights, raw positions and events files.\n",
    "The files are written to the /sources/cpr bucket directory.\n",
    "\n",
    "The raw position file is cleaned and the cleaned file is also written to the /sources/cpr bucket directory, \n",
    "while the error metrics file is written to the /sources/error_metrics/cpr bucket directory."
   ]
  },
  {
   "cell_type": "code",
   "execution_count": null,
   "metadata": {
    "collapsed": true,
    "scrolled": true
   },
   "outputs": [],
   "source": [
    "refine_cpr_data(date)"
   ]
  },
  {
   "cell_type": "markdown",
   "metadata": {},
   "source": [
    "# Upload and refine FR24 ADS-B Data\n",
    "\n",
    "Reads the FR24 files for the date from the Google bucket /upload directory.\n",
    "\n",
    "Converts the data into FR24 iata flights, raw positions and events files.\n",
    "The files are written to the /sources/cpr bucket directory.\n",
    "\n",
    "The raw position file is cleaned and the cleaned file is also written to the /sources/fr24 bucket directory,\n",
    "while the error metrics file is written to the /products/error_metrics/fr24 bucket directory.\n",
    "\n",
    "The IATA airport codes in the flights file are converted to ICAO airport codes and also written to the /sources/fr24 bucket directory.\n",
    "\n",
    "The aircraft fleet data in the flights file is extracted and written to the /products/fleet_data bucket directory."
   ]
  },
  {
   "cell_type": "code",
   "execution_count": null,
   "metadata": {
    "collapsed": true
   },
   "outputs": [],
   "source": [
    "refine_fr24_data(date)"
   ]
  },
  {
   "cell_type": "markdown",
   "metadata": {},
   "source": [
    "## Merge CPR and FR24 ADS-B data\n",
    "\n",
    "Matches, merges and cleans the positions of refined CPR and FR24 ADS-B data files.\n",
    "The merged files are written to the /sources/merged/daily_cpr_fr24 bucket directory.  \n",
    "Note: the refined CPR and FR24 files are deleted from the local disk (not the bucket).\n",
    "\n",
    "The raw merged position file is cleaned and the cleaned file is also written to the /sources/merged/dailiy_cpr_fr24 bucket directory, while the error metrics file is written to the /products/error_metrics/cpr_fr24 bucket directory."
   ]
  },
  {
   "cell_type": "code",
   "execution_count": null,
   "metadata": {
    "collapsed": true
   },
   "outputs": [],
   "source": [
    "merge_cpr_fr24_data(date)"
   ]
  },
  {
   "cell_type": "markdown",
   "metadata": {},
   "source": [
    "# Merge Overnight Flight Data\n",
    "\n",
    "## Note: The previous days data MUST have been processed beforehand.\n",
    "\n",
    "## Also note: this process requires over 20GB!\n",
    "\n",
    "Matches and merges dailiy merged CPR and FR24 ADS-B data files overnight.  \n",
    "The merged files are written to the /sources/merged/overnight_cpr_fr24 bucket directory.\n",
    "\n",
    "It also cleans the previous days positions, the cleaned file is also written to the /sources/merged/overnight_cpr_fr24 bucket directory, while the error metrics file is written to the /products/error_metrics/cpr_fr24/overnight bucket directory."
   ]
  },
  {
   "cell_type": "code",
   "execution_count": null,
   "metadata": {
    "collapsed": true
   },
   "outputs": [],
   "source": [
    "merge_cpr_fr24_overnight_flights(date)"
   ]
  }
 ],
 "metadata": {
  "kernelspec": {
   "display_name": "Python 3",
   "language": "python",
   "name": "python3"
  },
  "language_info": {
   "codemirror_mode": {
    "name": "ipython",
    "version": 3
   },
   "file_extension": ".py",
   "mimetype": "text/x-python",
   "name": "python",
   "nbconvert_exporter": "python",
   "pygments_lexer": "ipython3",
   "version": "3.6.2"
  }
 },
 "nbformat": 4,
 "nbformat_minor": 2
}
