{
 "cells": [
  {
   "cell_type": "markdown",
   "metadata": {},
   "source": [
    "# Introduction And Orientation\n",
    "\n",
    "This notebook outlines the provided notebooks, the file system structure and the relationship to the google cloud bucket store. \n",
    "\n",
    "We provide a number of reference notebooks in the reference-notebooks sub directory.\n",
    "These are read only and will be recreated when the users notebook server is restarted.\n",
    "To change these notebooks it si recommended to make a copy of them in another directory.\n",
    "\n",
    "\n",
    "## Data Importation and Merging\n",
    "\n",
    "The following notebooks import data from the upload bucket, refine it and store it in the sources bucket.\n",
    "\n",
    "Some of the data is processed further. For example, the aircraft fleet data is extracted from the FR24 flight data.\n",
    "\n",
    "### Import And Process CPR And FR24 Data\n",
    "\n",
    "Imports, refines and merges CPR and FR24 input data files.\n",
    "\n",
    "### Batch Import and Merge CPR and FR24 Data\n",
    "\n",
    "Imports, refines and merges CPR and FR24 input data files over a range of dates.\n",
    "\n",
    "### Import APDS Data\n",
    "\n",
    "Imports and  refines an APDS input data file.\n",
    "\n",
    "\n",
    "## Trajectory Analysis and Interpolation\n",
    "\n",
    "### Analyse and Interpolate Trajectory Positions\n",
    "\n",
    "Analyses and interpolates trajectory positions files from the sources bucket.\n",
    "The files are ususally created by the Import And Process CPR And FR24 Data notebook.\n",
    "\n",
    "## Direct Bucket Operations\n",
    "\n",
    "### List a Bucket \n",
    "\n",
    "This section shows how the semantics of bucket operations can be surprising.  \n",
    "A bucket only contains named things, a name like a/b.txt is really only a string.  \n",
    "\n",
    "For example to list the contents of the 'sources/apds' bucket:"
   ]
  },
  {
   "cell_type": "code",
   "execution_count": null,
   "metadata": {
    "collapsed": true
   },
   "outputs": [],
   "source": [
    "from pru.filesystem.data_store_operations import list_bucket, SOURCES_APDS\n",
    "list_bucket(SOURCES_APDS)"
   ]
  },
  {
   "cell_type": "markdown",
   "metadata": {},
   "source": [
    "### Get Source or Processed Data from a Bucket\n",
    "\n",
    "The get_processed function can be used to fetch processed data files from a bucket.\n",
    "\n",
    "Valid bucket names can be found in the pru.filesystem.data_store_operations module, e.g. PRODUCTS_FLEET.  \n",
    "Note: since the processed data is always dated the date must be supplied.\n",
    "\n",
    "Also note, for some files the fetch can take several minutes..."
   ]
  },
  {
   "cell_type": "code",
   "execution_count": null,
   "metadata": {
    "collapsed": true
   },
   "outputs": [],
   "source": [
    "from pru.filesystem.data_store_operations import get_processed, PRODUCTS_FLEET\n",
    "get_processed(PRODUCTS_FLEET, '2017-08-01')"
   ]
  }
 ],
 "metadata": {
  "kernelspec": {
   "display_name": "Python 3",
   "language": "python",
   "name": "python3"
  },
  "language_info": {
   "codemirror_mode": {
    "name": "ipython",
    "version": 3
   },
   "file_extension": ".py",
   "mimetype": "text/x-python",
   "name": "python",
   "nbconvert_exporter": "python",
   "pygments_lexer": "ipython3",
   "version": "3.6.2"
  }
 },
 "nbformat": 4,
 "nbformat_minor": 2
}
