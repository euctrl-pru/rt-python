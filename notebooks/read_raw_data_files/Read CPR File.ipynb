{
 "cells": [
  {
   "cell_type": "markdown",
   "metadata": {},
   "source": [
    "# Read CPR File\n",
    "\n",
    "Reads a raw CPR 'csv' file into a panadas DataFrame.\n",
    "\n",
    "The DATE_TIME field is parsed and the DataFrame is indexed and sorted by TACT_ID and DATE_TIME"
   ]
  },
  {
   "cell_type": "code",
   "execution_count": null,
   "metadata": {
    "collapsed": true
   },
   "outputs": [],
   "source": [
    "import numpy as np\n",
    "import pandas as pd\n",
    "import datetime\n",
    "\n",
    "CPR_DATETIME_FORMAT = '%y/%m/%d %H:%M:%S'\n",
    "def cpr_datetime_parser(d):\n",
    "    \"\"\" Parse a CPR date and time into python datetime format. \"\"\"\n",
    "    return datetime.datetime.strptime(d, CPR_DATETIME_FORMAT)"
   ]
  },
  {
   "cell_type": "code",
   "execution_count": null,
   "metadata": {
    "scrolled": false
   },
   "outputs": [],
   "source": [
    "filename = input('filename: ')\n",
    "cpr_df = pd.read_csv(filename, sep=';', header=None,\n",
    "                    names =['LINE_NUMBER', 'TACT_ID', 'ETFMS_RECEIPT', 'DATE_TIME', 'BLOCK_NUMBER', 'RECORD_NUMBER',\n",
    "                           'SAC', 'SIC', 'CALLSIGN', 'DEPARTURE', 'DESTINATION', 'EOBT', 'LAT_LONG', 'FLIGHT_LEVEL',\n",
    "                           'TRACK_SERVICE', 'SSR_CODE', 'TRACK_VELOCITY', 'TRACK_MAGNETIC', 'VERTICAL_RATE', 'VERTICAL_MODE',\n",
    "                           'IFPS_ID', 'AIRCRAFT_ADDRESS', 'UNKNOWN'],\n",
    "                    parse_dates =['DATE_TIME'], date_parser=cpr_datetime_parser,\n",
    "                    usecols =['TACT_ID', 'DATE_TIME', 'SAC', 'SIC', 'CALLSIGN', 'DEPARTURE', 'DESTINATION',\n",
    "                              'EOBT', 'LAT_LONG', 'FLIGHT_LEVEL', 'SSR_CODE', 'AIRCRAFT_ADDRESS'],\n",
    "                    index_col=['TACT_ID', 'DATE_TIME'])\n",
    "len(cpr_df)"
   ]
  },
  {
   "cell_type": "code",
   "execution_count": null,
   "metadata": {
    "collapsed": true
   },
   "outputs": [],
   "source": [
    "cpr_df.sort_index(na_position='first', inplace=True)"
   ]
  },
  {
   "cell_type": "code",
   "execution_count": null,
   "metadata": {},
   "outputs": [],
   "source": [
    "cpr_df.head()"
   ]
  },
  {
   "cell_type": "markdown",
   "metadata": {},
   "source": [
    "## Get the TACT_IDs"
   ]
  },
  {
   "cell_type": "code",
   "execution_count": null,
   "metadata": {},
   "outputs": [],
   "source": [
    "tact_ids = cpr_df.index.levels[0]\n",
    "len(tact_ids)"
   ]
  },
  {
   "cell_type": "code",
   "execution_count": null,
   "metadata": {},
   "outputs": [],
   "source": [
    "tact_ids"
   ]
  },
  {
   "cell_type": "markdown",
   "metadata": {},
   "source": [
    "## Find the entries for a given TACT_ID"
   ]
  },
  {
   "cell_type": "code",
   "execution_count": null,
   "metadata": {},
   "outputs": [],
   "source": [
    "flight1_id = input('flight_id: ')\n",
    "flight_1_points = cpr_df.loc[int(flight1_id)]\n",
    "len(flight_1_points)"
   ]
  },
  {
   "cell_type": "code",
   "execution_count": null,
   "metadata": {},
   "outputs": [],
   "source": [
    "flight_1_points"
   ]
  }
 ],
 "metadata": {
  "kernelspec": {
   "display_name": "Python 3",
   "language": "python",
   "name": "python3"
  },
  "language_info": {
   "codemirror_mode": {
    "name": "ipython",
    "version": 3
   },
   "file_extension": ".py",
   "mimetype": "text/x-python",
   "name": "python",
   "nbconvert_exporter": "python",
   "pygments_lexer": "ipython3",
   "version": "3.6.2"
  }
 },
 "nbformat": 4,
 "nbformat_minor": 2
}
